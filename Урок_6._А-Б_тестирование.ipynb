{
 "cells": [
  {
   "cell_type": "markdown",
   "id": "66b1b6f4",
   "metadata": {},
   "source": [
    "# Урок 6. Расчёт длительности А/B теста + продвинутые топики"
   ]
  },
  {
   "cell_type": "markdown",
   "id": "00891065",
   "metadata": {},
   "source": [
    "### Задача 1.\n",
    "Продакт на главной mail.ru решил протестировать в рекомендательной ленте контента вместо карточек со статьями видеоплеер с короткими видео. Нынешний таймспент на юзера в день в среднем равен 25 минут, а стандартная ошибка (SD) равна 156. Мы предполагаем, что в новой версии таймспент на юзера в день изменится на 10%. Средний трафик 20000 человек в день. Посчитайте сколько дней необходимо держать эксперимент при alpha = 5% и beta = 20% "
   ]
  },
  {
   "cell_type": "code",
   "execution_count": 2,
   "id": "88f9dfd8",
   "metadata": {},
   "outputs": [
    {
     "name": "stdout",
     "output_type": "stream",
     "text": [
      "Необходимая длительность эксперимента: 7.0 дней\n"
     ]
    }
   ],
   "source": [
    "import numpy as np\n",
    "from statsmodels.stats.power import tt_ind_solve_power\n",
    "\n",
    "def calculate_experiment_duration(mean, sd, effect_size, alpha, beta, daily_traffic):\n",
    "    \"\"\"\n",
    "    Функция для расчета длительности A/B теста.\n",
    "\n",
    "    :param mean: Среднее значение метрики в контрольной группе.\n",
    "    :param sd: Стандартное отклонение метрики.\n",
    "    :param effect_size: Ожидаемое изменение метрики в экспериментальной группе.\n",
    "    :param alpha: Уровень значимости (вероятность ошибки первого рода).\n",
    "    :param beta: Вероятность ошибки второго рода (1 - мощность теста).\n",
    "    :param daily_traffic: Среднедневная посещаемость.\n",
    "    \n",
    "    :return: Количество дней для проведения эксперимента.\n",
    "    \"\"\"\n",
    "    # Расчет ожидаемого изменения\n",
    "    effect_size_absolute = effect_size * mean\n",
    "    \n",
    "    # Расчет размера эффекта\n",
    "    effect_size_standardized = effect_size_absolute / sd\n",
    "    \n",
    "    # Расчет размера выборки на группу\n",
    "    sample_size_per_group = tt_ind_solve_power(effect_size=effect_size_standardized, \n",
    "                                               alpha=alpha, \n",
    "                                               power=1-beta, \n",
    "                                               ratio=1, \n",
    "                                               alternative='two-sided')\n",
    "    \n",
    "    # Общий размер выборки\n",
    "    total_sample_size = sample_size_per_group * 2\n",
    "    \n",
    "    # Расчет длительности эксперимента\n",
    "    duration_in_days = np.ceil(total_sample_size / daily_traffic)\n",
    "    \n",
    "    return duration_in_days\n",
    "\n",
    "# Параметры эксперимента\n",
    "mean_spent_time = 25  # Средний таймспент на пользователя в день\n",
    "sd_spent_time = 156   # Стандартная ошибка\n",
    "expected_change = 0.1  # Ожидаемое изменение таймспента в новой версии\n",
    "alpha_level = 0.05    # Уровень значимости\n",
    "beta_level = 0.2      # Ошибка второго рода\n",
    "daily_users = 20000   # Средний дневной трафик\n",
    "\n",
    "# Расчет длительности эксперимента\n",
    "experiment_duration = calculate_experiment_duration(mean_spent_time, sd_spent_time, \n",
    "                                                    expected_change, alpha_level, \n",
    "                                                    beta_level, daily_users)\n",
    "\n",
    "# Вывод результата\n",
    "print(f\"Необходимая длительность эксперимента: {experiment_duration} дней\")"
   ]
  },
  {
   "cell_type": "markdown",
   "id": "1237902a",
   "metadata": {},
   "source": [
    "### Задача 2.\n",
    "Наша продуктовая команда в ecommerce магазине планирует запустить тест, направленный на ускорение загрузки сайта. Одна из основных метрик bounce rate в GA = 40%. Мы предполагаем, что при оптимизации сайта она изменится минимум на 20%.Средний трафик 4000 человек в день. Посчитайте сколько нам нужно дней держать эксперимент при alpha = 5% и beta = 20%"
   ]
  },
  {
   "cell_type": "code",
   "execution_count": 6,
   "id": "17fdd720",
   "metadata": {},
   "outputs": [
    {
     "name": "stdout",
     "output_type": "stream",
     "text": [
      "Необходимая длительность эксперимента: 1 дней\n"
     ]
    }
   ],
   "source": [
    "import numpy as np\n",
    "from statsmodels.stats.power import GofChisquarePower\n",
    "\n",
    "def calculate_sample_size_and_duration(p1, p2, alpha, beta, daily_traffic):\n",
    "    \"\"\"\n",
    "    Функция для расчета размера выборки и длительности A/B теста на основе изменения bounce rate.\n",
    "\n",
    "    :param p1: Текущий bounce rate.\n",
    "    :param p2: Ожидаемый bounce rate после изменений.\n",
    "    :param alpha: Уровень значимости (вероятность ошибки первого рода).\n",
    "    :param beta: Вероятность ошибки второго рода (1 - мощность теста).\n",
    "    :param daily_traffic: Средний дневной трафик.\n",
    "    \n",
    "    :return: Количество дней для проведения эксперимента.\n",
    "    \"\"\"\n",
    "    # Расчет эффекта\n",
    "    effect_size = abs(p2 - p1)\n",
    "    \n",
    "    # Определение объекта для расчета мощности\n",
    "    power_analysis = GofChisquarePower()\n",
    "    \n",
    "    # Расчет размера выборки на группу\n",
    "    sample_size = power_analysis.solve_power(effect_size=effect_size, nobs=None,\n",
    "                                             alpha=alpha, power=1-beta)\n",
    "    \n",
    "    # Общий размер выборки\n",
    "    total_sample_size = sample_size * 2\n",
    "    \n",
    "    # Расчет длительности эксперимента\n",
    "    duration_in_days = np.ceil(total_sample_size / daily_traffic)\n",
    "    \n",
    "    return int(duration_in_days)  # Преобразование в целое число\n",
    "\n",
    "# Параметры эксперимента\n",
    "current_bounce_rate = 0.40  # Текущий bounce rate\n",
    "expected_improvement = 0.20 # Ожидаемое улучшение\n",
    "expected_bounce_rate = current_bounce_rate - current_bounce_rate * expected_improvement  # Ожидаемый bounce rate\n",
    "alpha_level = 0.05  # Уровень значимости\n",
    "beta_level = 0.20   # Ошибка второго рода\n",
    "daily_users = 4000  # Средний дневной трафик\n",
    "\n",
    "# Расчет длительности эксперимента\n",
    "experiment_duration = calculate_sample_size_and_duration(current_bounce_rate, expected_bounce_rate, \n",
    "                                                         alpha_level, beta_level, daily_users)\n",
    "\n",
    "# Вывод результата\n",
    "print(f\"Необходимая длительность эксперимента: {experiment_duration} дней\")"
   ]
  }
 ],
 "metadata": {
  "kernelspec": {
   "display_name": "Python 3 (ipykernel)",
   "language": "python",
   "name": "python3"
  },
  "language_info": {
   "codemirror_mode": {
    "name": "ipython",
    "version": 3
   },
   "file_extension": ".py",
   "mimetype": "text/x-python",
   "name": "python",
   "nbconvert_exporter": "python",
   "pygments_lexer": "ipython3",
   "version": "3.11.5"
  }
 },
 "nbformat": 4,
 "nbformat_minor": 5
}
